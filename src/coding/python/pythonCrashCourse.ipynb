{
 "cells": [
  {
   "cell_type": "markdown",
   "metadata": {},
   "source": [
    "> [Python编程从入门到实践(第二版)](https://book.douban.com/subject/35196328/)读书笔记\n",
    "# Python基础\n",
    "变量规则：\n",
    "1. 只能包含字母数字下划线（区分js可以以下划线和dollar符作为变量名）\n",
    "2. 关键词不能作为变量名\n",
    "3. python中欸有常量的语法概念。只有约定写法"
   ]
  },
  {
   "cell_type": "markdown",
   "metadata": {},
   "source": [
    "## String\n",
    "### 一些常用的方法\n",
    "#### 修改大小写\n",
    "- `title` / `capitalize`\n",
    "- `upper` / `lower`"
   ]
  },
  {
   "cell_type": "code",
   "execution_count": null,
   "metadata": {},
   "outputs": [],
   "source": [
    "name=\"ada lovelace\"\n",
    "print(name.title())\n",
    "print(name.capitalize())\n",
    "print(name.upper())"
   ]
  },
  {
   "cell_type": "markdown",
   "metadata": {},
   "source": [
    "#### f字符串(类比js模板字符串)\n",
    "> f字符串仅适用于 3.6+。等效于之前的 `\"{0} {1}\".format(f_name, l_name)`，其中{0}中的0代表需要被替换的args_idx"
   ]
  },
  {
   "cell_type": "code",
   "execution_count": null,
   "metadata": {},
   "outputs": [],
   "source": [
    "f_name=\"ada\"\n",
    "l_name=\"lovelace\"\n",
    "full_name=f\"{f_name} {l_name}\"\n",
    "print(\"full_name:\", full_name.title())\n",
    "print(\"before 3.6: \", \"{} {}\".format(f_name, l_name).title())\n"
   ]
  },
  {
   "cell_type": "markdown",
   "metadata": {},
   "source": [
    "#### 删除空白\n",
    "- lstrip / rstrip / strip"
   ]
  },
  {
   "cell_type": "code",
   "execution_count": null,
   "metadata": {},
   "outputs": [],
   "source": [
    "wb_word=' python '\n",
    "print('rstrip:', wb_word.rstrip())\n",
    "print('lstrip:', wb_word.lstrip())"
   ]
  },
  {
   "cell_type": "code",
   "execution_count": null,
   "metadata": {},
   "outputs": [],
   "source": [
    "# 小练习：人名quotes\n",
    "name=\"\\tRocky\\n\"\n",
    "quotes=\"Let me tell you something you already know. The world ain't all sunshine and rainbows. It's a very mean and nasty place. And I don't care how tough you are, it will beat you to knees and keep you there permanently if you let it! You, me, or nobody is gonna hit as hard as life. But it ain't about how hard you bit. It's about how hard you can get hit and keep moving forward. How much you can take and keep moving forward. That's how winning is done! Now if you know what you're worth, then go out and get what you're worth. But ya gotta be willing to take the hits, and not pointing fingers saying you ain't where you wanna be because of him, or her, or anybody! Cowards do that and that ain't you! You're better than that!\"\n",
    "print(f'{name.strip().title()} once said: \"{quotes}\"')"
   ]
  },
  {
   "cell_type": "markdown",
   "metadata": {},
   "source": [
    "## Number\n",
    "\n",
    "与js不同，python区分整数与浮点数。（js内部，所有数字都是作为浮点数表示）\n",
    "\n",
    "- 任意两个数相除，结果总是浮点数\n",
    "- 其他运算中，其中一方为浮点数，结果也是浮点数\n",
    "\n",
    "> `python` 表述大数时可以用下划线分割，`python` 解析时会全部忽略， `1_0_00`和`1_000`和`1000`在`python`中没有区别。(与f字符串一样，仅3.6+适用)\n",
    "\n",
    "## List\n",
    "与js基本类似，但可以用-1进行访问\n",
    "### 一些常用方法\n",
    "#### 基本操作\n",
    "`append(x)` `insert(i, x)` `extend(t)` `s += t`\n",
    "`pop()` `remove(x)`\n",
    "`del s[i:j:k]`\n",
    "`s[i:j] = t`\n",
    "`sort()` `sorted()` `reverse()`\n",
    "参考[官方文档](https://docs.python.org/3.9/library/stdtypes.html#sequence-types-list-tuple-range)\n",
    "#### 循环\n",
    "> 注意循环声明的变量是全局的，因此在循环结束后依然可以访问。在 `Python` 的世界里，Indent Matters!\n",
    "#### Number List\n",
    "`range(x, y, step)` => 以step为间隔生成范围为[xy)的数组\n",
    "`min` `max` `sum`"
   ]
  },
  {
   "cell_type": "code",
   "execution_count": null,
   "metadata": {},
   "outputs": [],
   "source": [
    "testList = [\"a\", \"b\", \"c\", \"d\", \"e\"]\n",
    "for s in testList:\n",
    "    print(s)\n",
    "\n",
    "for s in range(1, 6, 2):\n",
    "    print(s)\n",
    "print(f\"s can still be used out of loop: {s}\")\n",
    "\n",
    "# mapList = [*map(lambda x: x ** 2, range(1, 11))]\n",
    "mapList = list(map(lambda x: x ** 2, range(1, 11)))\n",
    "resolveList = [value**2 for value in range(1, 11)]\n",
    "print(mapList)\n",
    "print(resolveList)"
   ]
  },
  {
   "cell_type": "markdown",
   "metadata": {},
   "source": [
    "## Tuple\n",
    "> `Python` 将不能修改的值称为不可变的，而不可变的列表被称为元组。与`typescript`中的`tuple`不同，`Python` 中的元组更类似于ts中的数组常量的概念\n",
    "\n",
    "元组是由逗号标识的，圆括号只是让元组看起来更整洁、更清晰。如果你要定义只包含一个元素的元组，必须在这个元素后面加上逗号。创建只包含一个元素的元组通常没有意义，但**自动生成**的元组有可能只有一个元素。\n"
   ]
  },
  {
   "cell_type": "code",
   "execution_count": 30,
   "metadata": {},
   "outputs": [
    {
     "name": "stdout",
     "output_type": "stream",
     "text": [
      "200\n"
     ]
    }
   ],
   "source": [
    "singleTuple = (200,)\n",
    "testTuple = (200, 50)\n",
    "\n",
    "print(testTuple[0])"
   ]
  },
  {
   "cell_type": "markdown",
   "metadata": {},
   "source": [
    "## Conditions\n",
    "`if`\n",
    "可以使用 comparison operators\n",
    "`==` `>=` etc.\n",
    "或者使用 logical keywords\n",
    "`and` `or`\n",
    "使用 `in` `not in` keywords 检查特定值是否在列表中\n"
   ]
  },
  {
   "cell_type": "code",
   "execution_count": 6,
   "metadata": {},
   "outputs": [
    {
     "name": "stdout",
     "output_type": "stream",
     "text": [
      "Adding mushrooms\n",
      "Sorry, out of green peppers right now\n",
      "Adding cheese\n",
      "finished making pizza\n"
     ]
    }
   ],
   "source": [
    "recipes = ['mushrooms', 'green peppers', 'cheese']\n",
    "for m in recipes:\n",
    "  if m == 'green peppers':\n",
    "    print('Sorry, out of green peppers right now')\n",
    "  else:\n",
    "    print(f'Adding {m}')\n",
    "print('finished making pizza')\n"
   ]
  },
  {
   "cell_type": "code",
   "execution_count": null,
   "metadata": {},
   "outputs": [],
   "source": []
  }
 ],
 "metadata": {
  "kernelspec": {
   "display_name": "base",
   "language": "python",
   "name": "python3"
  },
  "language_info": {
   "codemirror_mode": {
    "name": "ipython",
    "version": 3
   },
   "file_extension": ".py",
   "mimetype": "text/x-python",
   "name": "python",
   "nbconvert_exporter": "python",
   "pygments_lexer": "ipython3",
   "version": "3.9.7"
  }
 },
 "nbformat": 4,
 "nbformat_minor": 2
}
