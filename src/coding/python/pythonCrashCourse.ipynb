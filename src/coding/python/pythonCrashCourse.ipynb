{
 "cells": [
  {
   "cell_type": "markdown",
   "metadata": {},
   "source": [
    "> [Python 编程从入门到实践(第二版)](https://book.douban.com/subject/35196328/)读书笔记\n",
    "\n",
    "# Python 基础\n",
    "\n",
    "变量规则：\n",
    "\n",
    "1. 只能包含字母数字下划线（区分 js 可以以下划线和 dollar 符作为变量名）\n",
    "2. 关键词不能作为变量名\n",
    "3. python 中没有常量的语法概念。只有约定写法\n"
   ]
  },
  {
   "cell_type": "markdown",
   "metadata": {},
   "source": [
    "## String (Text Sequence Type)\n",
    "\n",
    "### 一些常用的方法\n",
    "\n",
    "#### 修改大小写\n",
    "\n",
    "- `title` / `capitalize`\n",
    "- `upper` / `lower`\n"
   ]
  },
  {
   "cell_type": "code",
   "execution_count": null,
   "metadata": {},
   "outputs": [],
   "source": [
    "name = \"ada lovelace\"\n",
    "print(name.title())\n",
    "print(name.capitalize())\n",
    "print(name.upper())"
   ]
  },
  {
   "cell_type": "markdown",
   "metadata": {},
   "source": [
    "#### f 字符串(类比 js 模板字符串)\n",
    "\n",
    "> f 字符串仅适用于 3.6+。等效于之前的 `\"{0} {1}\".format(f_name, l_name)`，其中{0}中的 0 代表需要被替换的 args_idx\n"
   ]
  },
  {
   "cell_type": "code",
   "execution_count": null,
   "metadata": {},
   "outputs": [],
   "source": [
    "f_name = \"ada\"\n",
    "l_name = \"lovelace\"\n",
    "full_name = f\"{f_name} {l_name}\"\n",
    "print(\"full_name:\", full_name.title())\n",
    "print(\"before 3.6: \", \"{} {}\".format(f_name, l_name).title())"
   ]
  },
  {
   "cell_type": "markdown",
   "metadata": {},
   "source": [
    "#### 删除空白\n",
    "\n",
    "- lstrip / rstrip / strip\n"
   ]
  },
  {
   "cell_type": "code",
   "execution_count": null,
   "metadata": {},
   "outputs": [],
   "source": [
    "wb_word = \" python \"\n",
    "print(\"rstrip:\", wb_word.rstrip())\n",
    "print(\"lstrip:\", wb_word.lstrip())"
   ]
  },
  {
   "cell_type": "code",
   "execution_count": null,
   "metadata": {},
   "outputs": [],
   "source": [
    "# 小练习：人名quotes\n",
    "name = \"\\tRocky\\n\"\n",
    "quotes = \"Let me tell you something you already know. The world ain't all sunshine and rainbows. It's a very mean and nasty place. And I don't care how tough you are, it will beat you to knees and keep you there permanently if you let it! You, me, or nobody is gonna hit as hard as life. But it ain't about how hard you bit. It's about how hard you can get hit and keep moving forward. How much you can take and keep moving forward. That's how winning is done! Now if you know what you're worth, then go out and get what you're worth. But ya gotta be willing to take the hits, and not pointing fingers saying you ain't where you wanna be because of him, or her, or anybody! Cowards do that and that ain't you! You're better than that!\"\n",
    "print(f'{name.strip().title()} once said: \"{quotes}\"')"
   ]
  },
  {
   "cell_type": "markdown",
   "metadata": {},
   "source": [
    "## Number (Sequence Type)\n",
    "\n",
    "与 js 不同，python 区分整数与浮点数。（js 内部，所有数字都是作为浮点数表示）\n",
    "\n",
    "- 任意两个数相除，结果总是浮点数\n",
    "- 其他运算中，其中一方为浮点数，结果也是浮点数\n",
    "\n",
    "> `python` 表述大数时可以用下划线分割，`python` 解析时会全部忽略， `1_0_00`和`1_000`和`1000`在`python`中没有区别。(与 f 字符串一样，仅 3.6+适用)\n",
    "\n",
    "## List\n",
    "\n",
    "与 js 基本类似，但可以用-1 进行访问\n",
    "\n",
    "### 一些常用方法\n",
    "\n",
    "#### 基本操作\n",
    "\n",
    "- `append(x)` `insert(i, x)` `extend(t)` `s += t`\n",
    "- `pop()` `remove(x)`\n",
    "- `del s[i:j:k]`\n",
    "- `s[i:j] = t`\n",
    "- `sort()` `sorted()` `reverse()`\n",
    "  参考[官方文档](https://docs.python.org/3.9/library/stdtypes.html#sequence-types-list-tuple-range)\n",
    "\n",
    "#### 循环\n",
    "\n",
    "> 注意循环声明的变量是全局的，因此在循环结束后依然可以访问。在 `Python` 的世界里，Indent Matters!\n",
    "\n",
    "#### Number List\n",
    "\n",
    "`range(x, y, step)` => 以 step 为间隔生成范围为[xy)的数组\n",
    "`min` `max` `sum`\n"
   ]
  },
  {
   "cell_type": "code",
   "execution_count": null,
   "metadata": {},
   "outputs": [],
   "source": [
    "testList = [\"a\", \"b\", \"c\", \"d\", \"e\"]\n",
    "for s in testList:\n",
    "    print(s)\n",
    "\n",
    "for s in range(1, 6, 2):\n",
    "    print(s)\n",
    "print(f\"s can still be used out of loop: {s}\")\n",
    "\n",
    "# mapList = [*map(lambda x: x ** 2, range(1, 11))]\n",
    "mapList = list(map(lambda x: x**2, range(1, 11)))\n",
    "resolveList = [value**2 for value in range(1, 11)]\n",
    "print(mapList)\n",
    "print(resolveList)"
   ]
  },
  {
   "cell_type": "markdown",
   "metadata": {},
   "source": [
    "## Tuple (Sequence Type)\n",
    "\n",
    "> `Python` 将不能修改的值称为不可变的，而不可变的列表被称为元组。与`typescript`中的`tuple`不同，`Python` 中的元组更类似于 ts 中的数组常量的概念\n",
    "\n",
    "元组是由逗号标识的，圆括号只是让元组看起来更整洁、更清晰。如果你要定义只包含一个元素的元组，必须在这个元素后面加上逗号。创建只包含一个元素的元组通常没有意义，但**自动生成**的元组有可能只有一个元素。\n"
   ]
  },
  {
   "cell_type": "code",
   "execution_count": null,
   "metadata": {},
   "outputs": [],
   "source": [
    "singleTuple = (200,)\n",
    "testTuple = (200, 50)\n",
    "\n",
    "print(testTuple[0])"
   ]
  },
  {
   "cell_type": "markdown",
   "metadata": {},
   "source": [
    "## Conditions\n",
    "\n",
    "`if`\n",
    "可以使用 comparison operators\n",
    "`==` `>=` etc.\n",
    "或者使用 logical keywords\n",
    "`and` `or`\n",
    "使用 `in` `not in` keywords 检查特定值是否在列表中\n"
   ]
  },
  {
   "cell_type": "code",
   "execution_count": 15,
   "metadata": {},
   "outputs": [
    {
     "name": "stdout",
     "output_type": "stream",
     "text": [
      "Adding mushrooms\n",
      "Sorry, out of green peppers right now\n",
      "Adding cheese\n",
      "finished making pizza\n",
      "['1st', '2nd', '3rd', '3th', '4th', '5th', '6th', '7th', '8th']\n"
     ]
    }
   ],
   "source": [
    "recipes = [\"mushrooms\", \"green peppers\", \"cheese\"]\n",
    "for m in recipes:\n",
    "    if m == \"green peppers\":\n",
    "        print(\"Sorry, out of green peppers right now\")\n",
    "    else:\n",
    "        print(f\"Adding {m}\")\n",
    "print(\"finished making pizza\")\n",
    "\n",
    "seqNumList = list(range(1, 10))\n",
    "for i in range(len(seqNumList)):\n",
    "    if i == 0:\n",
    "        seqNumList[i] = \"1st\"\n",
    "    elif i == 1:\n",
    "        seqNumList[i] = \"2nd\"\n",
    "    elif i == 2:\n",
    "        seqNumList[i] = \"3rd\"\n",
    "    else:\n",
    "        seqNumList[i] = f\"{i}th\"\n",
    "print(seqNumList)"
   ]
  },
  {
   "cell_type": "markdown",
   "metadata": {},
   "source": [
    "## Dict (Mapping Types)\n",
    "\n",
    "参考[官方网站](https://docs.python.org/3.8/library/stdtypes.html#mapping-types-dict)\n",
    "\n",
    "> 与 `typescript` 不同，在 Python 3.7 中，字典中元素的排列顺序与定义时相同。\n",
    "\n",
    "- `get(key[, default])`\n",
    "  Return the value for key if key is in the dictionary, else default. If default is not given, it defaults to None, so that this method never raises a KeyError.\n",
    "- `iter(d)`\n",
    "  Return an iterator over the keys of the dictionary. This is a shortcut for iter(d.keys()).\n",
    "- `items()`\n",
    "  Return a new view of the dictionary’s items ((key, value) pairs)\n",
    "- `keys()` `values()`\n",
    "  遍历字典时会默认遍历所有键，因此 `for name in students` 和 `for name in students.keys()` 是等效的\n",
    "\n",
    "> 既可以使用内置方法 `set()` 进行去重，也可以直接使用一对花括号创建 `set`\n",
    "\n",
    "```python\n",
    "languages = {'python', 'ruby', 'python', 'c'}\n",
    "# languages {'ruby', 'python', 'c'}\n",
    "```\n"
   ]
  },
  {
   "cell_type": "code",
   "execution_count": 17,
   "metadata": {},
   "outputs": [
    {
     "name": "stdout",
     "output_type": "stream",
     "text": [
      "alien_0[\"color\"]: green\n",
      "alien_0[\"points\"]: 5\n",
      "alien_0[\"speed\"]: fast\n",
      "alien_0[\"x_position\"]: 3\n",
      "alien_0[\"y_position\"]: 25\n"
     ]
    }
   ],
   "source": [
    "speed_x_increment = {\"slow\": 1, \"medium\": 2, \"fast\": 3}\n",
    "alien_0 = {\"color\": \"green\", \"points\": 5, \"speed\": \"fast\"}\n",
    "alien_0[\"x_position\"] = 0\n",
    "alien_0[\"y_position\"] = 25\n",
    "alien_0[\"x_position\"] += speed_x_increment.get(alien_0[\"speed\"], 5)\n",
    "# for k in iter(alien_0):\n",
    "for k, v in alien_0.items():\n",
    "    print(f'alien_0[\"{k}\"]: {alien_0[k]}')"
   ]
  },
  {
   "cell_type": "markdown",
   "metadata": {},
   "source": [
    "## Input and While\n",
    "\n",
    "> `input()` 函数接收用户输入，可以通过 `\\n` 总是返回字符串。\n",
    "\n",
    "对比 `node.js`，`python` 显然要简练很多\n",
    "\n",
    "```javascript\n",
    "const { createInterface } = require(\"node:readline\");\n",
    "const { stdin, stdout } = require(\"node:process\");\n",
    "\n",
    "const rl = createInterface({\n",
    "  input: stdin,\n",
    "  output: stdout,\n",
    "});\n",
    "\n",
    "rl.question(\"Tell me something, and I will repeat it back 2 u\", (answer) => {\n",
    "  console.log(\"🚀 ~ file: test.js:7 ~ rl.question ~ answer:\", answer);\n",
    "  rl.close();\n",
    "});\n",
    "```\n"
   ]
  },
  {
   "cell_type": "code",
   "execution_count": 9,
   "metadata": {},
   "outputs": [
    {
     "name": "stdout",
     "output_type": "stream",
     "text": [
      "250\n",
      "150\n"
     ]
    }
   ],
   "source": [
    "message = \"Tell me something, and I will repeat it back 2 u\"\n",
    "message += \"\\nEnter Q to end the program.\\n\"\n",
    "result = \"\"\n",
    "flag = True\n",
    "while flag:\n",
    "    result = input(message)\n",
    "    flag = result.upper() != \"Q\"\n",
    "    if flag:\n",
    "        print(result)"
   ]
  },
  {
   "cell_type": "code",
   "execution_count": 27,
   "metadata": {},
   "outputs": [
    {
     "name": "stdout",
     "output_type": "stream",
     "text": [
      "\n",
      "The following users have been confirmed:\n",
      "Admin\n",
      "Alice\n",
      "Jack\n",
      "Tom\n",
      "['dog', 'cat', 'dog', 'goldfish', 'cat', 'rabbit', 'cat']\n",
      "['dog', 'dog', 'goldfish', 'rabbit']\n"
     ]
    }
   ],
   "source": [
    "# list - append\n",
    "unconfirmed_users = [\"admin\", \"alice\", \"jack\", \"tom\"]\n",
    "confirmed_users = []\n",
    "while unconfirmed_users:\n",
    "    cur_user = unconfirmed_users.pop(0)\n",
    "    confirmed_users.append(cur_user)\n",
    "print(f\"\\nThe following users have been confirmed:\")\n",
    "for confirmed_user in confirmed_users:\n",
    "    print(confirmed_user.title())\n",
    "\n",
    "# list - remove\n",
    "pets = [\"dog\", \"cat\", \"dog\", \"goldfish\", \"cat\", \"rabbit\", \"cat\"]\n",
    "print(pets)\n",
    "\n",
    "target = \"cat\"\n",
    "while target in pets:\n",
    "    pets.remove(target)\n",
    "\n",
    "print(pets)"
   ]
  },
  {
   "cell_type": "code",
   "execution_count": 29,
   "metadata": {},
   "outputs": [
    {
     "name": "stdout",
     "output_type": "stream",
     "text": [
      "\n",
      "-- Poll Results ---\n",
      "Jack would like to climb Hua\n",
      "wang would like to climb tai\n"
     ]
    }
   ],
   "source": [
    "responses = {}\n",
    "polling = True\n",
    "while polling:\n",
    "    name = input(\"\\nWhat's ur name? \")\n",
    "    response = input(\"Which mountain would you like to climb someday? \")\n",
    "    responses[name] = response\n",
    "\n",
    "    polling = input(\"Would you like to let another person respond?(yes/no) \") != \"no\"\n",
    "\n",
    "print(\"\\n-- Poll Results ---\")\n",
    "for name, response in responses.items():\n",
    "    print(f\"{name.title()} would like to climb {response}\")"
   ]
  },
  {
   "cell_type": "markdown",
   "metadata": {},
   "source": [
    "## Functions\n",
    "\n",
    "```python\n",
    "def func_name(*params):\n",
    "  \"\"\"\n",
    "  docstring\n",
    "  \"\"\"\n",
    "  print(\"Hello world\")\n",
    "```\n",
    "\n",
    "传参的方式有两种：\n",
    "\n",
    "1. 位置实参（基于顺序）\n",
    "2. 关键字实参 （基于形参命名）\n",
    "\n",
    "> `Python` 的函数调用方式比 `javascript` 要灵活太多。 `javascript` 在定义的时候就已经确定了调用方式。因此经常会出现定义的时候使用多形参的格式 `function foo(arg1, arg2){/* do something */}`，后续扩展不便的问题\n"
   ]
  },
  {
   "cell_type": "code",
   "execution_count": 44,
   "metadata": {},
   "outputs": [
    {
     "name": "stdout",
     "output_type": "stream",
     "text": [
      "\n",
      "The following models have been printed:\n",
      "dodecahedron\n",
      "robot pendant\n",
      "phone case\n"
     ]
    }
   ],
   "source": [
    "unprinted_designs = [\"phone case\", \"robot pendant\", \"dodecahedron\"]\n",
    "\n",
    "\n",
    "def print_models(models):\n",
    "    \"\"\"打印模型\"\"\"\n",
    "    finished_designs = []\n",
    "    sliced_designs = models.copy()\n",
    "    while sliced_designs:\n",
    "        finished_designs.append(sliced_designs.pop())\n",
    "    return finished_designs\n",
    "\n",
    "\n",
    "def show_completed_models(models):\n",
    "    \"\"\"显示已完成的模型\"\"\"\n",
    "    print(\"\\nThe following models have been printed:\")\n",
    "    for model in models:\n",
    "        print(model)\n",
    "\n",
    "\n",
    "show_completed_models(print_models(unprinted_designs))"
   ]
  },
  {
   "cell_type": "markdown",
   "metadata": {},
   "source": [
    "当参数个数不确定的时候，可以通过 `*args` 的语法接收为 `Tuple` (类似 `javascript` 的 `...args` 语法)，也可以通过 `**kwargs` 要求将参数接收为一个 `Dict`"
   ]
  },
  {
   "cell_type": "code",
   "execution_count": 45,
   "metadata": {},
   "outputs": [
    {
     "name": "stdout",
     "output_type": "stream",
     "text": [
      "\n",
      "Making a 16-inch pizza with the following toppings:\n",
      "- mushrooms\n",
      "- green peppers\n",
      "- extra cheese\n",
      "{'sex': 'male', 'name': 'Jack', 'age': 22}\n"
     ]
    }
   ],
   "source": [
    "def make_pizza(size, *toppings):\n",
    "    \"\"\"概述当前披萨\"\"\"\n",
    "    print(f\"\\nMaking a {size}-inch pizza with the following toppings:\")\n",
    "    for topping in toppings:\n",
    "        print(f\"- {topping}\")\n",
    "\n",
    "\n",
    "make_pizza(16, \"mushrooms\", \"green peppers\", \"extra cheese\")\n",
    "\n",
    "# Python 甚至支持接受任意个数的参数并生成字典\n",
    "def build_profile(name, age, **user_info):\n",
    "    \"\"\"用户信息\"\"\"\n",
    "    user_info[\"name\"] = name\n",
    "    user_info[\"age\"] = age\n",
    "    return user_info\n",
    "user_profile = build_profile(\"Jack\", 22, sex=\"male\")\n",
    "print(user_profile)"
   ]
  },
  {
   "cell_type": "markdown",
   "metadata": {},
   "source": [
    "## import\n",
    "\n",
    "扩展名为 `.py` 的文件天生就是一个模块\n",
    "\n",
    "导入语法有多种，导入时可以通过 `as` 关键字指定别名：\n",
    "\n",
    "1. `import module_name # 将 module_name 文件整个导入当前文件`\n",
    "2. `from module_name import func_name as fn # 从 module_name 中导入 func_name 并指定别名 fn`\n",
    "\n",
    "可以通过通配符 `*` 导入所有函数 `from module_name import *`\n",
    "\n",
    "但在使用非自己编写的大型模块时，应**避免**这种方法，因为 `Python` 会对多个名称相同的函数或变量进行*覆盖*操作"
   ]
  },
  {
   "cell_type": "code",
   "execution_count": 53,
   "metadata": {},
   "outputs": [
    {
     "name": "stdout",
     "output_type": "stream",
     "text": [
      "75\n",
      "This car has a 75-kWh battery\n"
     ]
    }
   ],
   "source": [
    "class Car:\n",
    "    \"\"\"一次模拟汽车的简单尝试。\"\"\"\n",
    "\n",
    "    def __init__(self, make, model, year):\n",
    "        \"\"\"初始化描述汽车的属性。\"\"\"\n",
    "        self.make = make\n",
    "        self.model = model\n",
    "        self.year = year\n",
    "        self.odometer_reading = 0\n",
    "\n",
    "    def get_descriptive_name(self):\n",
    "        \"\"\"返回整洁的描述性信息。\"\"\"\n",
    "        long_name = f\"{self.year} {self.make} {self.model}\"\n",
    "        return long_name.title()\n",
    "\n",
    "    def read_odometer(self):\n",
    "        \"\"\"打印里程信息\"\"\"\n",
    "        print(f\"This car has {self.odometer_reading} miles on it.\")\n",
    "\n",
    "    def update_odometer(self, mileage):\n",
    "        \"\"\"设置里程信息\"\"\"\n",
    "        if mileage >= self.odometer_reading:\n",
    "            self.odometer_reading = mileage\n",
    "        else:\n",
    "            print(\"You can't roll back an odometer!\")\n",
    "\n",
    "    def increase_odometer(self, miles):\n",
    "        self.update_odometer(self.odometer_reading + miles)\n",
    "\n",
    "\n",
    "class ElectricCar(Car):\n",
    "    \"\"\"电动汽车\"\"\"\n",
    "\n",
    "    def __init__(self, *args):\n",
    "        super().__init__(*args)\n",
    "        self.battery_size = 75\n",
    "\n",
    "    def describe_battery(self):\n",
    "        print(f\"This car has a {self.battery_size}-kWh battery\")\n",
    "\n",
    "\n",
    "my_tesla = ElectricCar(\"tesla\", \"model s\", 2019)\n",
    "print(my_tesla.battery_size)\n",
    "my_tesla.describe_battery()"
   ]
  },
  {
   "cell_type": "markdown",
   "metadata": {},
   "source": [
    "## Python 标准库\n",
    "\n",
    "> Python 标准库是一组模块，我们安装的 Python 都包含它。你现在对函数和类的工作原理已有大致的了解，可以开始使用其他程序员编写好的模块了。可以使用标准库中的任何函数和类，只需在程序开头包含一条简单的 import 语句即可。\n",
    "\n",
    "```python\n",
    "from random import randint\n",
    "\n",
    "randint(1, 6)\n",
    "```\n"
   ]
  },
  {
   "cell_type": "code",
   "execution_count": 64,
   "metadata": {},
   "outputs": [
    {
     "name": "stdout",
     "output_type": "stream",
     "text": [
      "You will win if you get: ['A', 'B', 'C', 'G']\n",
      "['D', 'E', 'F', 'H']\n"
     ]
    }
   ],
   "source": [
    "from random import randint\n",
    "\n",
    "test_list = [\"A\", \"B\", \"C\", \"D\", \"E\", \"F\", \"G\", \"H\"]\n",
    "count = 4\n",
    "winning_list = []\n",
    "while len(winning_list) != count:\n",
    "    winning_list.append(test_list.pop(randint(0, len(test_list) - 1)))\n",
    "winning_list.sort()\n",
    "print(f\"You will win if you get: {winning_list}\")\n",
    "print(test_list)"
   ]
  },
  {
   "cell_type": "markdown",
   "metadata": {},
   "source": [
    "## 文件\n",
    "\n",
    "- `with` 关键字可以让 `Python` 自动确认文件的关闭时机\n",
    "- `open(file_name, mode)` `close(file_name)` 关键字可以 `打开/关闭文件`。但实际 `close` 如果因为错误代码等原因没有正确调用或未执行，可能导致文件受损。因此可以使用 `with` 自动确认\n",
    "- `file.write(content)`\n",
    "- `file.read()`\n",
    "\n",
    "### 读写模式\n",
    "\n",
    "| `open-mode` |  r  | r+  |  w  | w+  |  a  | a+  |\n",
    "| :---------: | :-: | :-: | :-: | :-: | :-: | :-: |\n",
    "|     读      |  √  |  √  |     |  √  |     |  √  |\n",
    "|     写      |     |  √  |  √  |  √  |  √  |  √  |\n",
    "|    创建     |     |     |  √  |  √  |  √  |  √  |\n",
    "|    覆盖     |     |     |  √  |  √  |     |     |\n",
    "| 指针在开始  |     |     |  √  |  √  |     |     |\n",
    "| 指针在结尾  |     |     |     |     |  √  |  √  |\n",
    "\n",
    "文件每行末尾都有 `\\n`的存在，因此需要注意用 `strip` 或者 `rstrip` 消除多余换行符\n"
   ]
  },
  {
   "cell_type": "code",
   "execution_count": 69,
   "metadata": {},
   "outputs": [
    {
     "name": "stdout",
     "output_type": "stream",
     "text": [
      "all `.ipynb` files will be transformed by utils in `/scripts/ipynb2md`. And no need to commit transformed markdowns.\n",
      "\n",
      "Also, should configure the target vitepress path with `/coding/python/markdowns/**`\n"
     ]
    }
   ],
   "source": [
    "with open(\"./README.md\") as readme_file:\n",
    "    for line in readme_file:\n",
    "        print(line.rstrip())"
   ]
  },
  {
   "cell_type": "markdown",
   "metadata": {},
   "source": [
    "### 存储数据\n",
    "#### json\n",
    "- `json.dump()`\n",
    "- `json.load()`"
   ]
  },
  {
   "cell_type": "code",
   "execution_count": 11,
   "metadata": {},
   "outputs": [],
   "source": [
    "import json\n",
    "\n",
    "numbers = {\"a\": 1, \"b\": \"2\", \"c\": 22}\n",
    "filename = \"numbers.json\"\n",
    "with open(filename, \"w\") as f:\n",
    "    json.dump(numbers, f)"
   ]
  },
  {
   "cell_type": "markdown",
   "metadata": {},
   "source": [
    "## 异常\n",
    "\n",
    "异常是使用 `try-except` 代码块处理的\n",
    "\n",
    "```python\n",
    "try:\n",
    "  print(5/0)\n",
    "except ZeroDivisionError:\n",
    "  print(\"You can't divide by zero!\")\n",
    "```\n",
    "\n",
    "在 `except` 代码块内，可以使用 `pass` 关键字，让代码什么都不做\n"
   ]
  },
  {
   "cell_type": "code",
   "execution_count": 1,
   "metadata": {},
   "outputs": [
    {
     "name": "stdout",
     "output_type": "stream",
     "text": [
      "Give me two numbers, and I'll divide them.\n",
      "Enter 'q' to quit.\n"
     ]
    }
   ],
   "source": [
    "print(\"Give me two numbers, and I'll divide them.\")\n",
    "print(\"Enter 'q' to quit.\")\n",
    "\n",
    "while True:\n",
    "    first_num = input(\"\\nFirst number: \")\n",
    "    if first_num == \"q\":\n",
    "        break\n",
    "    sec_num = input(\"\\nSecond number: \")\n",
    "    if sec_num == \"q\":\n",
    "        break\n",
    "    try:\n",
    "        answer = int(first_num) / int(sec_num)\n",
    "    except ZeroDivisionError:\n",
    "        print(\"You can't divide by 0!\")\n",
    "    except ValueError:\n",
    "        print(\"value invalid\")\n",
    "    else:\n",
    "        print(answer)"
   ]
  },
  {
   "cell_type": "code",
   "execution_count": null,
   "metadata": {},
   "outputs": [
    {
     "name": "stdout",
     "output_type": "stream",
     "text": [
      "Sorry, the file not_exist.txt does not exist.\n"
     ]
    }
   ],
   "source": [
    "filename = \"not_exist.txt\"\n",
    "\n",
    "try:\n",
    "    with open(filename, encoding=\"utf-8\") as f:\n",
    "        contents = f.read()\n",
    "except FileNotFoundError:\n",
    "    print(f\"Sorry, the file {filename} does not exist.\")"
   ]
  },
  {
   "cell_type": "code",
   "execution_count": null,
   "metadata": {},
   "outputs": [],
   "source": [
    "# 练习 10-6\n",
    "def accumulator():\n",
    "    \"\"\"加法运算\"\"\"\n",
    "    from functools import reduce\n",
    "\n",
    "    print(\"Give me two numbers, and I'll divide them.\")\n",
    "    print(\"Enter 'q' to quit.\")\n",
    "\n",
    "    def trans_2_int(str):\n",
    "        return int(str)\n",
    "\n",
    "    input_str = \"\"\n",
    "    num_list = []\n",
    "    while input_str != \"q\":\n",
    "        try:\n",
    "            input_str = input(\n",
    "                \"\\nPlease input a number to accumulate ('q' to execute): \"\n",
    "            )\n",
    "            if input_str != \"q\":\n",
    "                num = trans_2_int(input_str)\n",
    "                num_list.append(num)\n",
    "        except ValueError:\n",
    "            print(\"Value invalid! Input should be numbers\")\n",
    "    result = reduce(lambda acc, val: acc + val, num_list)\n",
    "    print(f\"{' + '.join([*map(str, num_list)])} = {result}\")"
   ]
  },
  {
   "cell_type": "markdown",
   "metadata": {},
   "source": [
    "## 测试\n",
    "\n",
    "> `Python` 标准库中的模块 `unittest` 提供了代码测试工具\n",
    "\n",
    "::: details 关于自动化测试\n",
    "\n",
    "可以参见 [自动化测试](../../frontend/vue-uni-comp/test.md)\n",
    "\n",
    ":::\n",
    "\n",
    "### 常用断言方法\n",
    "\n",
    "| 方法                    | 用途             |\n",
    "| ----------------------- | ---------------- |\n",
    "| assertEqual(a, b)       | a == b           |\n",
    "| assertNotEqual(a, b)    | a != b           |\n",
    "| assertTrue(x)           | x == True        |\n",
    "| assertFalse(x)          | x == False       |\n",
    "| assertIn(item, list)    | item in list     |\n",
    "| assertNotIn(item, list) | item not in list |\n",
    "\n",
    "::: tip\n",
    "\n",
    "测试类与测试函数基本类似，不同点在于测试类时，由于类往往具有内部属性，因此在编写测试用例时往往会有重复语句，可以通过 `setUp` 方法，预设内部数据\n",
    "\n",
    ":::\n",
    "\n",
    "可以参见 [自动化测试](../../frontend/vue-uni-comp/test.md)\n",
    "\n",
    ":::\n",
    "\n"
   ]
  },
  {
   "cell_type": "code",
   "execution_count": 3,
   "metadata": {},
   "outputs": [],
   "source": [
    "# 测试函数\n",
    "# name_func.py\n",
    "def get_formatted_name(first, last, middle=\"\"):\n",
    "    \"\"\"生成格式化姓名\"\"\"\n",
    "    if middle:\n",
    "        full_name = f\"{first} {middle} {last}\"\n",
    "    else:\n",
    "        full_name = f\"{first} {last}\"\n",
    "\n",
    "    return full_name.title()\n",
    "\n",
    "\n",
    "# should be in test_name_func.py (not executable in Jupyter book)\n",
    "# import unittest\n",
    "# class NamesTestCase(unittest.TestCase):\n",
    "#     def test_first_last_name(self):\n",
    "#         formatted_name = get_formatted_name(\"janis\", \"joplin\")\n",
    "#         self.assertEqual(formatted_name, \"Janis Joplin\")\n",
    "\n",
    "#     def test_first_last_middle_name(self):\n",
    "#         formatted_name = get_formatted_name(\"wolfgang\", \"mozart\", \"amadeus\")\n",
    "#         self.assertEqual(formatted_name, \"Wolfgang Amadeus Mozart\")\n",
    "\n",
    "# if __name__ == \"__main__\":\n",
    "#     unittest.main()"
   ]
  },
  {
   "cell_type": "code",
   "execution_count": null,
   "metadata": {},
   "outputs": [],
   "source": [
    "# 测试类\n",
    "# survey.py\n",
    "class AnonymousSurvey:\n",
    "    def __init__(self, question):\n",
    "        \"\"\"存储一个问题，并未存储答案做准备\"\"\"\n",
    "        self.question = question\n",
    "        self.responses = []\n",
    "\n",
    "    def show_question(self):\n",
    "        print(self.question)\n",
    "\n",
    "    def store_response(self, new_response):\n",
    "        self.responses.append(new_response)\n",
    "\n",
    "    def show_results(self):\n",
    "        \"\"\"显示收集到的所有答卷\"\"\"\n",
    "        print(\"Survey results:\")\n",
    "        for response in self.responses:\n",
    "            print(f\"- {response}\")\n",
    "\n",
    "# should be in test_survey.py (not executable in Jupyter book)\n",
    "# import unittest\n",
    "# from survey import AnonymousSurvey\n",
    "\n",
    "# class TestAnonymousSurvey(unittest.TestCase):\n",
    "#     def setUp(self):\n",
    "#         \"\"\"创建一个调查对象和一组答案，供测试方法使用\"\"\"\n",
    "#         self.question = \"What language did you first learn to speak\"\n",
    "#         self.responses = [\"English\", \"Spanish\", \"Mandarin\"]\n",
    "#         self.my_survey = AnonymousSurvey(self.question)\n",
    "\n",
    "#     def test_store_single_response(self):\n",
    "#         first_response = self.responses[0]\n",
    "#         self.my_survey.store_response(first_response)\n",
    "#         self.assertIn(first_response, self.my_survey.responses)\n",
    "\n",
    "#     def test_store_three_response(self):\n",
    "#         for response in self.responses:\n",
    "#             self.my_survey.store_response(response)\n",
    "#         for response in self.responses:\n",
    "#             self.assertIn(response, self.my_survey.responses)\n",
    "\n",
    "# if __name__ == \"__main__\":\n",
    "#     unittest.main()"
   ]
  }
 ],
 "metadata": {
  "kernelspec": {
   "display_name": "base",
   "language": "python",
   "name": "python3"
  },
  "language_info": {
   "codemirror_mode": {
    "name": "ipython",
    "version": 3
   },
   "file_extension": ".py",
   "mimetype": "text/x-python",
   "name": "python",
   "nbconvert_exporter": "python",
   "pygments_lexer": "ipython3",
   "version": "3.9.7"
  }
 },
 "nbformat": 4,
 "nbformat_minor": 2
}
